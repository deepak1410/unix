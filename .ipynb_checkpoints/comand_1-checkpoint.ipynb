{
 "cells": [
  {
   "cell_type": "markdown",
   "metadata": {},
   "source": [
    "### Some Useful Commands"
   ]
  },
  {
   "cell_type": "markdown",
   "metadata": {},
   "source": [
    "* `whoami` : The logged-in user\n",
    "* `hostname` : The hostname\n",
    "* `date` : curreent datetime \n",
    "* `passwd` : To change the password\n",
    "* `last` : List of last logged in user\n",
    "* `uname` : The platform name\n",
    "* `touch` : Create file"
   ]
  },
  {
   "cell_type": "markdown",
   "metadata": {},
   "source": [
    "### Search for relevant Command for a task"
   ]
  },
  {
   "cell_type": "markdown",
   "metadata": {},
   "source": [
    "man -k\n",
    "\n",
    "\n",
    "* `man -k kernel` // To get relevant command for kernel related tasks<br>\n",
    "* `man -k kernel | grep display` // To get kernel related commands filter by display"
   ]
  },
  {
   "cell_type": "markdown",
   "metadata": {},
   "source": [
    "### File System related commands"
   ]
  },
  {
   "cell_type": "markdown",
   "metadata": {},
   "source": [
    "#### Listing\n",
    "\n",
    "* ls : List\n",
    "* ls -a : List with details \n",
    "* ls -a : List includes hidden files\n",
    "* ls -lrt : List and sort by modified date\n",
    "* ls -l /home : Content of the directory\n",
    "* ls -ld /home : Properties of the directory\n",
    "* ls -d a*? : List with Wildcard search (a*? is just example)"
   ]
  },
  {
   "cell_type": "markdown",
   "metadata": {},
   "source": [
    "#### Copying\n",
    "\n",
    "* cp /var/source /var/destination : Copy source directory to destination directory\n",
    "* cp -R /var/source /var/destination : Recursive Copy i.e. copies subdirectories too\n",
    "* cp -R /var/source/ /var/destination/ : Same result but it is good practice to ends with `/` to avoid confusion"
   ]
  },
  {
   "cell_type": "code",
   "execution_count": null,
   "metadata": {},
   "outputs": [],
   "source": []
  },
  {
   "cell_type": "code",
   "execution_count": null,
   "metadata": {},
   "outputs": [],
   "source": []
  },
  {
   "cell_type": "code",
   "execution_count": null,
   "metadata": {},
   "outputs": [],
   "source": []
  },
  {
   "cell_type": "code",
   "execution_count": null,
   "metadata": {},
   "outputs": [],
   "source": []
  }
 ],
 "metadata": {
  "kernelspec": {
   "display_name": "Python 3",
   "language": "python",
   "name": "python3"
  },
  "language_info": {
   "codemirror_mode": {
    "name": "ipython",
    "version": 3
   },
   "file_extension": ".py",
   "mimetype": "text/x-python",
   "name": "python",
   "nbconvert_exporter": "python",
   "pygments_lexer": "ipython3",
   "version": "3.7.4"
  }
 },
 "nbformat": 4,
 "nbformat_minor": 2
}
