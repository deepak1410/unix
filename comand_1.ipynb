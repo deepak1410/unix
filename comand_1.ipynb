{
 "cells": [
  {
   "cell_type": "markdown",
   "metadata": {},
   "source": [
    "### Some Useful Commands"
   ]
  },
  {
   "cell_type": "markdown",
   "metadata": {},
   "source": [
    "* `whoami` : The logged-in user\n",
    "* `hostname` : The hostname\n",
    "* `date` : curreent datetime \n",
    "* `passwd` : To change the password\n",
    "* `last` : List of last logged in user\n",
    "* `uname` : The platform name\n",
    "* `touch` : Create file"
   ]
  },
  {
   "cell_type": "markdown",
   "metadata": {},
   "source": [
    "### Search for relevant Command for a task"
   ]
  },
  {
   "cell_type": "markdown",
   "metadata": {},
   "source": [
    "man -k\n",
    "\n",
    "\n",
    "* `man -k kernel` // To get relevant command for kernel related tasks<br>\n",
    "* `man -k kernel | grep display` // To get kernel related commands filter by display"
   ]
  },
  {
   "cell_type": "markdown",
   "metadata": {},
   "source": [
    "## File System related commands"
   ]
  },
  {
   "cell_type": "markdown",
   "metadata": {},
   "source": [
    "#### Listing\n",
    "\n",
    "* ls : List\n",
    "* ls -l : List with details \n",
    "* ls -a : List includes hidden files\n",
    "* ls -lrt : List and sort by modified date\n",
    "* ls -l /home : Content of the directory\n",
    "* ls -ld /home : Properties of the directory\n",
    "* ls -d a*? : List with Wildcard search (a*? is just example)\n",
    "* ls -R : List including subdirectories"
   ]
  },
  {
   "cell_type": "markdown",
   "metadata": {},
   "source": [
    "#### Copying\n",
    "\n",
    "* cp /var/source /var/destination : Copy source directory to destination directory\n",
    "* cp -R /var/source /var/destination : Recursive Copy i.e. copies subdirectories too\n",
    "* cp -R /var/source/ /var/destination/ : Same result but it is good practice to ends with `/` to avoid confusion"
   ]
  },
  {
   "cell_type": "markdown",
   "metadata": {},
   "source": [
    "#### Remove\n",
    "* rm file1.txt : Remove file\n",
    "* rmdir dir1 : Remove directory"
   ]
  },
  {
   "cell_type": "markdown",
   "metadata": {},
   "source": [
    "#### Directory\n",
    "\n",
    "* cd - : Switch to last directory\n",
    "* mkdir -p temp/newdir : Create the directory path in the present directorty\n",
    "* rm -rf temp/ : Delete directory \"temp\" including all subdirectories\n",
    "\n",
    "##### .. (One level up)\n",
    "* cp temp .. : copy temp to one level up\n"
   ]
  },
  {
   "cell_type": "markdown",
   "metadata": {},
   "source": [
    "#### Move/Rename\n",
    "\n",
    "* mv old new : Rename or Move old to new"
   ]
  },
  {
   "cell_type": "markdown",
   "metadata": {},
   "source": [
    "#### Finding"
   ]
  },
  {
   "cell_type": "markdown",
   "metadata": {},
   "source": [
    "* find /opt/docs/ -name \"*key*\" : Wildcard search for files and folders using name in a directory\n",
    "* find /opt/keys -type f -size +1M : Search for all files with size > 1MB in the given directory\n",
    "* find /opt/keys -name '*' -type f | xargs grep 'metadb' : Search for all files in the directory containing text \"metadb\" "
   ]
  },
  {
   "cell_type": "markdown",
   "metadata": {},
   "source": [
    "#### Compressing"
   ]
  },
  {
   "cell_type": "markdown",
   "metadata": {},
   "source": [
    "* gzip file1.txt : Compress file1.txt\n",
    "* gunzip file1.gz : Uncompress file1.gz"
   ]
  },
  {
   "cell_type": "markdown",
   "metadata": {},
   "source": [
    "## Text Editing "
   ]
  },
  {
   "cell_type": "markdown",
   "metadata": {},
   "source": [
    "#### Edit content\n",
    "\n",
    "* vi myfile.txt\n",
    "* nano myfile.txt\n",
    "\n",
    "#### View Content\n",
    "* more /var/log/wifi.log\n",
    "* less /var/log/wifi.log (Most recommended as it's easiest to use)\n",
    "* view /var/log/wifi.log"
   ]
  },
  {
   "cell_type": "markdown",
   "metadata": {},
   "source": [
    "## Text Reading"
   ]
  },
  {
   "cell_type": "markdown",
   "metadata": {},
   "source": [
    "* head server_config.yaml : View 1st 10 lines\n",
    "* head -n 5 server_config.yaml : View 1st 5 lines\n",
    "\n",
    "\n",
    "* tail server_config.yaml : View last 10 lines and keeps open\n",
    "* tail -n 5 server_config.yaml : View last 5 lines<br>\n",
    "\n",
    "\n",
    "* head -n 10 server_config.yaml | tail -n 1 : Display 10th line<br>\n",
    "\n",
    "\n",
    "* cat server_config.yaml : Display the content\n",
    "* cat -b server_config.yaml : Display the content and numbers lines\n",
    "* cat -n server_config.yaml : Display the content and numbers lines skipping the empty lines\n",
    "* cat -s server_config.yaml : Display the content and numbers lines suppressing the empty lines"
   ]
  },
  {
   "cell_type": "markdown",
   "metadata": {},
   "source": [
    "## Searching"
   ]
  },
  {
   "cell_type": "markdown",
   "metadata": {},
   "source": [
    "* grep -i service server_config.yaml : Case insensitive search\n",
    "* grep -R root * : Search in the subdirectories allso\n",
    "* grep -R root * -l : Search and lists only the file names\n",
    "\n",
    "\n",
    "* grep service -A2 server_config.yaml : Displays matches including 2 lines after each match \n",
    "* grep service -B2 server_config.yaml : Displays matches including 2 lines before each match\n",
    "* grep service -C2 server_config.yaml : Displays matches including 2 lines before and after each match\n",
    "\n",
    "#### Regex based searching\n",
    "* grep '^abc' server_config.yaml : Search for texts starting with abc.\n",
    "* egrep 'ab{2}c' server_config.yaml : Extended regext search.\n",
    "* grep '\\<alex\\>' server_config.yaml : Search for word alex (Note: It won't include alexander)."
   ]
  },
  {
   "cell_type": "markdown",
   "metadata": {},
   "source": [
    "## Text Processing Utilities"
   ]
  },
  {
   "cell_type": "markdown",
   "metadata": {},
   "source": [
    "* cut : cut the content\n",
    "* sort : Sort files alphabatically, often used in pipes \n",
    "* tr : Translates uppercase to lowercase\n",
    "* awk : Search for specific pattern\n",
    "* sed : Batch modify text files"
   ]
  },
  {
   "cell_type": "markdown",
   "metadata": {},
   "source": [
    "## Connecting to a Server"
   ]
  },
  {
   "cell_type": "markdown",
   "metadata": {},
   "source": [
    "##### Switch User\n",
    "* su - dkumar : Switch the current user to dkumar\n",
    "* exit : switch-back/Logout\n",
    "\n",
    "##### View/Edit sudo\n",
    "* sudo visudo : Configure sudo\n",
    "\n",
    "##### Connecting to remote server\n",
    "* ssh 192.168.1.4 : Connect to the server\n",
    "\n",
    "##### Connecting to remote server without entering password\n",
    "* ssh-keygen : Create keygens - It creates 2 files : id_rsa(private key) and id_rsa.pub (public key)\n",
    "* ssh-copy-id 192.168.1.4 : Copy the public key to remote server"
   ]
  },
  {
   "cell_type": "markdown",
   "metadata": {},
   "source": [
    "## Redirect and piping"
   ]
  },
  {
   "cell_type": "markdown",
   "metadata": {},
   "source": [
    "##### Inner Redirect\n",
    "* sort < /user/myfile.txt : Sort the content of myfile.txt\n",
    "\n",
    "##### Outer Redirect (Replace the old content)\n",
    "* ls > myfile.txt : Save the ls command output in myfile.txt\n",
    "* who > myfile.txt : Save the who command output in myfile.txt\n",
    "\n",
    "##### Inner and Outer Redirect\n",
    "* sort < /user/myfile.txt > newfile.txt : Sort the content of myfile and save the result in newfile\n",
    "\n",
    "##### Double Outer Redirect (Append content)\n",
    "* ls >> myfile.txt : Append the \"ls\" command output in myfile.txt\n"
   ]
  },
  {
   "cell_type": "markdown",
   "metadata": {},
   "source": [
    "## Alias"
   ]
  },
  {
   "cell_type": "markdown",
   "metadata": {},
   "source": [
    "* ctrl-l : Clear screen\n",
    "* ctrl-u : wipe current command line\n",
    "* ctrl-a : Move to the beginning\n",
    "* ctrl-e : Move to the end\n",
    "* ctrl-d : exit<br/><br/>\n",
    "\n",
    "* alias s = 'ssh user@10.20.4.5' \n",
    "* s : Use alias for a given command. Used to short a long command "
   ]
  },
  {
   "cell_type": "code",
   "execution_count": null,
   "metadata": {},
   "outputs": [],
   "source": []
  },
  {
   "cell_type": "code",
   "execution_count": null,
   "metadata": {},
   "outputs": [],
   "source": []
  },
  {
   "cell_type": "code",
   "execution_count": null,
   "metadata": {},
   "outputs": [],
   "source": []
  },
  {
   "cell_type": "code",
   "execution_count": null,
   "metadata": {},
   "outputs": [],
   "source": []
  },
  {
   "cell_type": "code",
   "execution_count": null,
   "metadata": {},
   "outputs": [],
   "source": []
  },
  {
   "cell_type": "code",
   "execution_count": null,
   "metadata": {},
   "outputs": [],
   "source": []
  },
  {
   "cell_type": "markdown",
   "metadata": {},
   "source": [
    "## Other Commands"
   ]
  },
  {
   "cell_type": "markdown",
   "metadata": {},
   "source": [
    "* sudo yum install bash-completion : Install bash-completion"
   ]
  },
  {
   "cell_type": "code",
   "execution_count": null,
   "metadata": {},
   "outputs": [],
   "source": []
  },
  {
   "cell_type": "code",
   "execution_count": null,
   "metadata": {},
   "outputs": [],
   "source": []
  }
 ],
 "metadata": {
  "kernelspec": {
   "display_name": "Python 3",
   "language": "python",
   "name": "python3"
  },
  "language_info": {
   "codemirror_mode": {
    "name": "ipython",
    "version": 3
   },
   "file_extension": ".py",
   "mimetype": "text/x-python",
   "name": "python",
   "nbconvert_exporter": "python",
   "pygments_lexer": "ipython3",
   "version": "3.7.4"
  }
 },
 "nbformat": 4,
 "nbformat_minor": 2
}
